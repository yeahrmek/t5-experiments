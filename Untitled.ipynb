{
 "cells": [
  {
   "cell_type": "code",
   "execution_count": 1,
   "id": "9c3c1926",
   "metadata": {},
   "outputs": [],
   "source": [
    "import importlib\n",
    "import logging\n",
    "import os\n",
    "from pathlib import Path\n",
    "from pprint import pprint\n",
    "from typing import List, Optional, Tuple\n",
    "\n",
    "import torch\n",
    "from jsonargparse import ArgumentParser\n",
    "from pytorch_lightning import Trainer, seed_everything\n",
    "from pytorch_lightning.callbacks import (\n",
    "    EarlyStopping,\n",
    "    LearningRateMonitor,\n",
    "    ModelCheckpoint,\n",
    ")\n",
    "from pytorch_lightning.loggers import WandbLogger\n",
    "from transformers import AutoConfig, AutoTokenizer  # noqa: E402\n",
    "\n",
    "from lean_dataset import (\n",
    "    RMTDocsAllAtOnceDataLoader,\n",
    "    RMTDocsDataLoader,\n",
    "    RMTDocsDataset,\n",
    "    RMTProofsDataset,\n",
    ")\n",
    "from modeling_rmt.lightning import RMTModelPL"
   ]
  },
  {
   "cell_type": "code",
   "execution_count": null,
   "id": "81bb4a22",
   "metadata": {},
   "outputs": [],
   "source": [
    "RMTProofsDataset"
   ]
  }
 ],
 "metadata": {
  "kernelspec": {
   "display_name": "Python 3 (ipykernel)",
   "language": "python",
   "name": "python3"
  },
  "language_info": {
   "codemirror_mode": {
    "name": "ipython",
    "version": 3
   },
   "file_extension": ".py",
   "mimetype": "text/x-python",
   "name": "python",
   "nbconvert_exporter": "python",
   "pygments_lexer": "ipython3",
   "version": "3.8.10"
  }
 },
 "nbformat": 4,
 "nbformat_minor": 5
}
